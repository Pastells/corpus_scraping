{
 "cells": [
  {
   "cell_type": "markdown",
   "id": "19b70fa8-c9e8-4e8d-825d-1403afbd25f0",
   "metadata": {},
   "source": [
    "- Query: `\"#dudaRAE\"` per un seguit de franges temporals, fent servir `since:` i `until:`\n",
    "\n",
    "- Es crea un diccionari de respostes de l'API segons aquestes dates.\n",
    "\n",
    "- Processat de dades i obtenció de respostes als tweets obtinguts\n",
    "\n",
    "Nota: projecte vell, és possible que falli alguna cosa"
   ]
  },
  {
   "cell_type": "code",
   "execution_count": null,
   "id": "b737a57f-505d-47e1-80b9-ec57b7a978f4",
   "metadata": {},
   "outputs": [],
   "source": [
    "import asyncio\n",
    "import pickle\n",
    "from datetime import datetime, timedelta\n",
    "\n",
    "import pandas as pd\n",
    "from tqdm import tqdm\n",
    "from twitter_scrape_utils import setup_accounts, tweets2df\n",
    "from twscrape import API, gather\n",
    "from twscrape.logger import set_log_level\n",
    "\n",
    "set_log_level(\"DEBUG\")\n",
    "api = API()  # initialize the API with default account database `accounts.db`\n",
    "\n",
    "pd.set_option(\"display.max_colwidth\", None)"
   ]
  },
  {
   "cell_type": "code",
   "execution_count": null,
   "id": "7a020288-70ed-4254-9d79-0725b0c99c0e",
   "metadata": {},
   "outputs": [],
   "source": [
    "await setup_accounts(api)"
   ]
  },
  {
   "cell_type": "markdown",
   "id": "2b3ccb6d-f176-4265-a23e-5cbad2a55d9d",
   "metadata": {},
   "source": [
    "- màxim de 3 tweets per dia pel 2023 -> l'API s'ho passa pel forro\n",
    "- màxim de 2 respostes (que siguin del compte @RAEinforma) "
   ]
  },
  {
   "cell_type": "code",
   "execution_count": null,
   "id": "70fde1f2-3db9-425d-8136-7371abf6dfab",
   "metadata": {},
   "outputs": [],
   "source": [
    "from datetime import datetime, timedelta\n",
    "\n",
    "start_date = datetime(2023, 1, 1)\n",
    "end_date = datetime(2023, 12, 31)\n",
    "\n",
    "date_queries = {}\n",
    "current_date = start_date\n",
    "while current_date <= end_date:\n",
    "    since_date = current_date.strftime(\"%Y-%m-%d\")\n",
    "    until_date = (current_date + timedelta(days=1)).strftime(\"%Y-%m-%d\")\n",
    "    query = f\"#dudaRAE since:{since_date} until:{until_date}\"\n",
    "    date_queries[since_date] = query\n",
    "\n",
    "    current_date += timedelta(days=1)"
   ]
  },
  {
   "cell_type": "code",
   "execution_count": null,
   "id": "50eed3a1-ba90-476e-8cf8-ca93177921b8",
   "metadata": {},
   "outputs": [],
   "source": [
    "# with open(\"tweets.pkl\", \"wb\") as f:\n",
    "#     pickle.dump(tweets, f)"
   ]
  },
  {
   "cell_type": "code",
   "execution_count": null,
   "id": "d2e6951f-ecbb-406c-9ce8-d2ce9d515426",
   "metadata": {},
   "outputs": [],
   "source": [
    "tweets = {}\n",
    "with open(\"tweets.pkl\", \"rb\") as f:\n",
    "    tweets = pickle.load(f)"
   ]
  },
  {
   "cell_type": "code",
   "execution_count": null,
   "id": "b0fcb36f-d779-40c6-ac2a-2e8bc40cc673",
   "metadata": {},
   "outputs": [],
   "source": [
    "for date, query in date_queries.items():\n",
    "    if date in tweets:\n",
    "        continue\n",
    "    tweets[date] = await gather(api.search(query, limit=3))"
   ]
  },
  {
   "cell_type": "code",
   "execution_count": null,
   "id": "400e6738-80f3-4191-9404-f14fd24e16b8",
   "metadata": {},
   "outputs": [],
   "source": [
    "def parse_tweet(tweet):\n",
    "    return {\n",
    "        \"id\": tweet.id,\n",
    "        \"username\": tweet.user.username,\n",
    "        \"content\": tweet.rawContent,\n",
    "        \"created_at\": tweet.date,\n",
    "        \"likes\": tweet.likeCount,\n",
    "        \"retweets\": tweet.retweetCount,\n",
    "        \"replies\": tweet.replyCount,\n",
    "        \"parent\": tweet.inReplyToTweetId,\n",
    "        \"photos\": tweet.media.photos,\n",
    "        \"links\": tweet.links,\n",
    "        \"location\": tweet.user.location,\n",
    "    }"
   ]
  },
  {
   "cell_type": "code",
   "execution_count": null,
   "id": "c2243463-c0c6-4157-85b2-534a7964cd8a",
   "metadata": {},
   "outputs": [],
   "source": [
    "dfs = {k: tweets2df(v, parse_tweet) for k, v in tweets.items()}\n",
    "\n",
    "df = pd.concat(list(dfs.values()))\n",
    "df[\"dia\"] = df.created_at.astype(str).str[:10]\n",
    "df[\"mes\"] = df.created_at.astype(str).str[:7]\n",
    "df[\"any\"] = df.created_at.astype(str).str[:4]\n",
    "df[\"hora\"] = df.created_at.astype(str).str[11:19]\n",
    "df.location = df.location.str.lower().str.strip()\n",
    "\n",
    "df = df[df[\"any\"] == \"2023\"]"
   ]
  },
  {
   "cell_type": "code",
   "execution_count": null,
   "id": "f5c1f520-300e-4b8f-9120-3234b93acc9d",
   "metadata": {},
   "outputs": [],
   "source": [
    "df.shape, df[df.replies != 0].shape, df[df.replies == 0].shape"
   ]
  },
  {
   "cell_type": "code",
   "execution_count": null,
   "id": "13068493-4276-473e-904e-aa65b278b6bb",
   "metadata": {},
   "outputs": [],
   "source": [
    "df.location.value_counts()"
   ]
  },
  {
   "cell_type": "markdown",
   "id": "44d99c7c-d64b-4a85-a612-30b1348c162c",
   "metadata": {},
   "source": [
    "Filtro els textos que no citen el compte de la RAE, els que no tenen respostes, i els que en tenen cinc o més.\n",
    "A més, trec els que tenen fotos o enllaços.\n",
    "Finalment, n'agafo 50 de cada mes aleatòriament."
   ]
  },
  {
   "cell_type": "code",
   "execution_count": null,
   "id": "c2bf2ddd-ac21-4c27-bfaf-de515d72d95f",
   "metadata": {},
   "outputs": [],
   "source": [
    "filtered = (\n",
    "    df[\n",
    "        (df.content.str.contains(\"@RAEinforma\"))\n",
    "        # & (df.replies == 0)\n",
    "        & (df.replies > 0)\n",
    "        & (df.replies < 5)\n",
    "        & (~df.photos.astype(bool))\n",
    "        & (~df.links.astype(bool))\n",
    "    ]\n",
    "    .groupby(\"mes\", group_keys=False)[\n",
    "        [\n",
    "            \"id\",\n",
    "            \"content\",\n",
    "            \"created_at\",\n",
    "            \"dia\",\n",
    "            \"mes\",\n",
    "            \"hora\",\n",
    "        ]\n",
    "    ]\n",
    "    .apply(lambda x: x.sample(5, random_state=42))\n",
    ")"
   ]
  },
  {
   "cell_type": "code",
   "execution_count": null,
   "id": "073c27b6-a000-42d0-8581-57ee43c0239b",
   "metadata": {},
   "outputs": [],
   "source": [
    "# filtered[[\"id\", \"content\", \"dia\", \"mes\", \"hora\"]].to_excel(\"sin_respuesta.xlsx\", index=False)"
   ]
  },
  {
   "cell_type": "code",
   "execution_count": null,
   "id": "9d40c914-4b73-4105-879b-36c9ed921d07",
   "metadata": {},
   "outputs": [],
   "source": [
    "# Si ens interessen les repostes\n",
    "async def get_replies(ID, limit=2):\n",
    "    return await gather(api.tweet_replies(ID, limit=limit))"
   ]
  },
  {
   "cell_type": "code",
   "execution_count": null,
   "id": "b5ea4545-c4e4-49c6-9f72-81117575c266",
   "metadata": {},
   "outputs": [],
   "source": [
    "# Si ens interessen els anteriors\n",
    "async def get_id(ID):\n",
    "    tweet = await api.tweet_details(ID)\n",
    "    return parse_tweet(tweet)\n",
    "\n",
    "\n",
    "# parent = await get_id(df.iloc[0].parent)"
   ]
  },
  {
   "cell_type": "code",
   "execution_count": null,
   "id": "2ca26b15-e477-4f88-b318-2c4ea7d4a9fd",
   "metadata": {},
   "outputs": [],
   "source": [
    "filtered[\"no_resposta\"] = 0\n",
    "filtered[\"varies_respostes\"] = 0\n",
    "\n",
    "replies = []"
   ]
  },
  {
   "cell_type": "code",
   "execution_count": null,
   "id": "0f873e5b-69d5-4da1-bac6-fa5674e21084",
   "metadata": {},
   "outputs": [],
   "source": [
    "with open(\"replies.pkl\", \"wb\") as f:\n",
    "    pickle.dump(replies, f)"
   ]
  },
  {
   "cell_type": "code",
   "execution_count": null,
   "id": "3192e7bf-1a63-4baa-a695-2bc41f1e48f2",
   "metadata": {},
   "outputs": [],
   "source": [
    "for i, ID in tqdm(enumerate(filtered.id)):\n",
    "    rep = await get_replies(ID)\n",
    "    df_rep = tweets2df(rep).query(\"username == 'RAEinforma'\")\n",
    "    if len(df_rep) == 0:\n",
    "        filtered.loc[filtered.id == ID, \"no_resposta\"] = 1\n",
    "    elif len(df_rep) > 1:\n",
    "        filtered.loc[filtered.id == ID, \"varies_respostes\"] = 1\n",
    "        replies.append(df_rep)\n",
    "    else:\n",
    "        replies.append(df_rep)\n",
    "        if df_rep.iloc[0].replies > 0:\n",
    "            rep2 = await get_replies(df_rep.id.iloc[0])\n",
    "            if rep2:  # even though I already filtered for replies, the output may be empty\n",
    "                df_rep2 = tweets2df(rep2).query(\"username == 'RAEinforma'\")\n",
    "                if len(df_rep2) > 1:\n",
    "                    replies.append(df_rep)"
   ]
  },
  {
   "cell_type": "code",
   "execution_count": null,
   "id": "e53f3561-94ad-4fe7-99e9-997daf725804",
   "metadata": {},
   "outputs": [],
   "source": [
    "df_replies = pd.concat(replies)"
   ]
  },
  {
   "cell_type": "code",
   "execution_count": null,
   "id": "d5667854-7c55-4099-913a-903946a38bd9",
   "metadata": {},
   "outputs": [],
   "source": [
    "# duplicats perquè vaig repetir el loop\n",
    "df_replies[[\"parent\", \"content\"]].shape"
   ]
  },
  {
   "cell_type": "code",
   "execution_count": null,
   "id": "ec7c4c92-d44a-4ac6-9dee-3bafea69dac6",
   "metadata": {},
   "outputs": [],
   "source": [
    "df_replies = df_replies[[\"parent\", \"content\"]].drop_duplicates()\n",
    "df_replies.shape"
   ]
  },
  {
   "cell_type": "markdown",
   "id": "a7349b77-a842-4fab-b2f1-444bc376618f",
   "metadata": {},
   "source": [
    "Tots tenen una única resposta"
   ]
  },
  {
   "cell_type": "code",
   "execution_count": null,
   "id": "d797e49d-983f-4b1e-a373-074dfbb1bbf7",
   "metadata": {},
   "outputs": [],
   "source": [
    "df_replies.parent.nunique()"
   ]
  },
  {
   "cell_type": "code",
   "execution_count": null,
   "id": "9aa4f5a1-4414-4191-a5bb-1cd52be682d3",
   "metadata": {},
   "outputs": [],
   "source": [
    "# fals, estaven = 0 els 2 quan vaig tirar el loop\n",
    "filtered.no_resposta.sum(), filtered.varies_respostes.sum()"
   ]
  },
  {
   "cell_type": "code",
   "execution_count": null,
   "id": "79d51691-deab-46f5-88b5-b1b36bfe9863",
   "metadata": {},
   "outputs": [],
   "source": [
    "corpus = filtered.merge(df_replies[[\"parent\", \"content\"]], how=\"left\", left_on=\"id\", right_on=\"parent\").rename(\n",
    "    columns={\"content_x\": \"pregunta\", \"content_y\": \"resposta\"}\n",
    ")[[\"id\", \"pregunta\", \"resposta\", \"dia\", \"mes\", \"hora\"]]\n",
    "corpus.to_csv(\"RAEconsultas_600.csv\", index=False)\n",
    "corpus.to_excel(\"RAEconsultas_600.xlsx\", index=False)"
   ]
  },
  {
   "cell_type": "code",
   "execution_count": null,
   "id": "c5870f29-70d3-43a4-871e-855b3dd73e1b",
   "metadata": {},
   "outputs": [],
   "source": [
    "corpus.mes.value_counts()"
   ]
  }
 ],
 "metadata": {
  "kernelspec": {
   "display_name": "Python 3 (ipykernel)",
   "language": "python",
   "name": "python3"
  },
  "language_info": {
   "codemirror_mode": {
    "name": "ipython",
    "version": 3
   },
   "file_extension": ".py",
   "mimetype": "text/x-python",
   "name": "python",
   "nbconvert_exporter": "python",
   "pygments_lexer": "ipython3",
   "version": "3.10.16"
  }
 },
 "nbformat": 4,
 "nbformat_minor": 5
}
