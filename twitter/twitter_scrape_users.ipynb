{
 "cells": [
  {
   "cell_type": "markdown",
   "id": "ed13cb36-615f-4f7a-8eff-8c4a25490f47",
   "metadata": {},
   "source": [
    "Gran volum de tweets segons una llista d'usuaris (no pública)"
   ]
  },
  {
   "cell_type": "code",
   "execution_count": null,
   "id": "b737a57f-505d-47e1-80b9-ec57b7a978f4",
   "metadata": {},
   "outputs": [],
   "source": [
    "import asyncio\n",
    "import pickle\n",
    "from datetime import datetime, timedelta\n",
    "\n",
    "import pandas as pd\n",
    "from tqdm import tqdm\n",
    "from twitter_scrape_utils import setup_accounts, tweets2df\n",
    "from twscrape import API, gather\n",
    "from twscrape.logger import set_log_level\n",
    "\n",
    "set_log_level(\"DEBUG\")\n",
    "api = API()  # inicialitza l'API amb la base de dades de comptes predeterminada `accounts.db`\n",
    "\n",
    "pd.set_option(\"display.max_colwidth\", None)"
   ]
  },
  {
   "cell_type": "code",
   "execution_count": null,
   "id": "a6afd0e8-2097-420f-b872-ae4ff945e78a",
   "metadata": {},
   "outputs": [],
   "source": [
    "right_users = pd.read_csv(\"far-right_users.csv\").username.unique().tolist()\n",
    "left_users = pd.read_csv(\"non-far-right_users.csv\").username.unique().tolist()\n",
    "len(right_users), len(left_users)"
   ]
  },
  {
   "cell_type": "code",
   "execution_count": null,
   "id": "7a020288-70ed-4254-9d79-0725b0c99c0e",
   "metadata": {},
   "outputs": [],
   "source": [
    "await setup_accounts(api)"
   ]
  },
  {
   "cell_type": "code",
   "execution_count": null,
   "id": "a70ed846-8956-49a2-ab6b-2e8a7355e2b7",
   "metadata": {},
   "outputs": [],
   "source": [
    "start_date = datetime(2024, 1, 1)\n",
    "since_date = start_date.strftime(\"%Y-%m-%d\")\n",
    "\n",
    "# Get user_id\n",
    "# user = await api.user_by_login(user_name)\n",
    "# user_id = user.id\n",
    "\n",
    "# tweets = {} # Executar només la primera vegada, així podem parar i rependre quan vulguem\n",
    "TWEETS_LIMIT = 20\n",
    "await api.pool.login_all()  # Ensure accounts are logged in\n",
    "for user_name in tqdm(left_users):\n",
    "\n",
    "    if user_name in tweets:\n",
    "        continue\n",
    "\n",
    "    query = f\"from:{user_name} -is:retweet since:{since_date}\"\n",
    "    tweets[user_name] = await gather(api.search(query, limit=TWEETS_LIMIT))\n",
    "    # tweets[user_name] = await gather(api.user_tweets(user_name, limit=tweets_limit))"
   ]
  },
  {
   "cell_type": "code",
   "execution_count": null,
   "id": "50eed3a1-ba90-476e-8cf8-ca93177921b8",
   "metadata": {},
   "outputs": [],
   "source": [
    "# Guardem vesions intermèdies cada X temps\n",
    "with open(f\"left_{len(tweets)}.pkl\", \"wb\") as f:\n",
    "    pickle.dump(tweets, f)"
   ]
  },
  {
   "cell_type": "code",
   "execution_count": null,
   "id": "d2e6951f-ecbb-406c-9ce8-d2ce9d515426",
   "metadata": {},
   "outputs": [],
   "source": [
    "# # Load already scrapped tweets\n",
    "# with open(\"tweets.pkl\", \"rb\") as f:\n",
    "#     tweets = pickle.load(f)"
   ]
  },
  {
   "cell_type": "code",
   "execution_count": null,
   "id": "400e6738-80f3-4191-9404-f14fd24e16b8",
   "metadata": {},
   "outputs": [],
   "source": [
    "def parse_tweet(tweet):\n",
    "    return {\n",
    "        \"id\": tweet.id,\n",
    "        \"username\": tweet.user.username,\n",
    "        \"content\": tweet.rawContent,\n",
    "        \"created_at\": tweet.date,\n",
    "        \"photos\": tweet.media.photos,\n",
    "        \"videos\": tweet.media.videos,\n",
    "        \"parent\": tweet.inReplyToTweetId,\n",
    "    }\n",
    "\n",
    "\n",
    "def get_df(tweets, allow_retweets=False):\n",
    "    dfs = {k: tweets2df(v, pase_tweet) for k, v in tweets.items()}\n",
    "\n",
    "    if not allow_retweets:\n",
    "        # keep only post from user, no retweets\n",
    "        dfs = {k: df[df.username == k] if not df.empty else df for k, df in dfs.items()}\n",
    "    df = pd.concat(list(dfs.values()))\n",
    "\n",
    "    df[\"has_photo\"] = False\n",
    "    df[\"has_video\"] = False\n",
    "    df[\"is_response\"] = False\n",
    "    df.loc[df[\"photos\"].str.len() != 0, \"has_photo\"] = True\n",
    "    df.loc[df[\"videos\"].str.len() != 0, \"has_video\"] = True\n",
    "    df.loc[~df[\"parent\"].isna(), \"is_response\"] = True\n",
    "    df = df.drop([\"photos\", \"videos\", \"parent\"], axis=1)\n",
    "    return df"
   ]
  },
  {
   "cell_type": "code",
   "execution_count": null,
   "id": "7c82f794-7938-4362-ae4f-6bec7a8b47ed",
   "metadata": {},
   "outputs": [],
   "source": [
    "df = get_df(tweets)\n",
    "df.to_csv(f\"left_{len(tweets)}.csv\", index=False)"
   ]
  }
 ],
 "metadata": {
  "kernelspec": {
   "display_name": "Python 3 (ipykernel)",
   "language": "python",
   "name": "python3"
  },
  "language_info": {
   "codemirror_mode": {
    "name": "ipython",
    "version": 3
   },
   "file_extension": ".py",
   "mimetype": "text/x-python",
   "name": "python",
   "nbconvert_exporter": "python",
   "pygments_lexer": "ipython3",
   "version": "3.10.16"
  }
 },
 "nbformat": 4,
 "nbformat_minor": 5
}
