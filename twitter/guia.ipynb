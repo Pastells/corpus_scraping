{
 "cells": [
  {
   "cell_type": "markdown",
   "id": "fb109f21-5a18-413a-be43-85527b08bac0",
   "metadata": {},
   "source": [
    "# Scrapping twitter\n",
    "\n",
    "Fem servir la API no oficial [twscrape](https://github.com/vladkens/twscrape)\n",
    "\n",
    "Aquest notebook és només un esquema general, **vegeu els 3 projectes d'exemple** per veure algunes de les possibilitats reals:\n",
    "- RAE:\n",
    "    - la query: `\"#dudaRAE\"` per un seguit de franges temporals, fent servir `since:` i `until:`\n",
    "    - Es crea un diccionari de respostes de l'API segons aquestes dates\n",
    "    - Processat de dades i obtenció de respostes als tweets obtinguts\n",
    "- la_revuelta: similar a l'anterior, dues queries: `\"#LaRevuelta\"` i `\"@LaRevueltaTVE\"` per un seguit de franges temporals, fent servir `since:` i `until:`\n",
    "- far_right_politics: gran volum de tweets segons una llista d'usuaris (no pública)"
   ]
  },
  {
   "cell_type": "markdown",
   "id": "a8913dea-6389-4d35-98ab-591d6197d007",
   "metadata": {},
   "source": [
    "## Imports"
   ]
  },
  {
   "cell_type": "code",
   "execution_count": null,
   "id": "b737a57f-505d-47e1-80b9-ec57b7a978f4",
   "metadata": {},
   "outputs": [],
   "source": [
    "import asyncio\n",
    "import pickle\n",
    "import sys\n",
    "from pathlib import Path\n",
    "\n",
    "import pandas as pd\n",
    "from twscrape import API, gather\n",
    "from twscrape.logger import set_log_level\n",
    "\n",
    "set_log_level(\"DEBUG\")\n",
    "api = API()  # inicialitza l'API amb la base de dades de comptes predeterminada `accounts.db`\n",
    "\n",
    "pd.set_option(\"display.max_colwidth\", None)"
   ]
  },
  {
   "cell_type": "markdown",
   "id": "9c8a01ba-09c0-42a7-9349-eaaa90ab4f6a",
   "metadata": {},
   "source": [
    "## Comptes\n",
    "\n",
    "El gran benefici d'aquesta API és que permet afegir diversos comptes i els va rotant quan arriben al límit cada 15 minuts (pot anar canviant), a més un cop ha passat el temps d'espera automàticament continua. Per tant, si volem moltes piulades senzillament serà qüestió de deixar el programa executant durant hores.\n",
    "\n",
    "Si feu un ús intensiu de l'eina, recomano no utilitzar comptes personals."
   ]
  },
  {
   "cell_type": "code",
   "execution_count": null,
   "id": "7a020288-70ed-4254-9d79-0725b0c99c0e",
   "metadata": {},
   "outputs": [],
   "source": [
    "async def setup_accounts():\n",
    "    cookies = \"abc=12; ct0=xyz\"\n",
    "    # Exemple de la documentació. Jo sempre he fet sevir pass3 == mail_pass3 i sembla funcionar\n",
    "    await api.pool.add_account(\"user3\", \"pass3\", \"u3@mail.com\", \"mail_pass3\", cookies=cookies)\n",
    "    await api.pool.login_all()\n",
    "\n",
    "\n",
    "await setup_accounts()"
   ]
  },
  {
   "cell_type": "markdown",
   "id": "3749ed09-2767-480f-b774-618a2fdf33c4",
   "metadata": {},
   "source": [
    "Podem veure els comptes guardats a la base de dades amb sqlite\n",
    "\n",
    "```python\n",
    "import sqlite3\n",
    "\n",
    "cnx = sqlite3.connect(\"accounts.db\")\n",
    "pd.read_sql_query(\"SELECT * FROM accounts\", cnx)\n",
    "```"
   ]
  },
  {
   "cell_type": "markdown",
   "id": "f5d65c9d-c0cf-44e9-8ef3-cad69cc4779b",
   "metadata": {},
   "source": [
    "Recomano afegir els comptes d'un en un, ja que és possible que donin problemes.\n",
    "Pot ser que aquest procediment ajudi a solucionar-ho (a vegades cal executar-ho diverses vegades):\n",
    "Font: https://github.com/vladkens/twscrape/issues/214\n",
    "\n",
    "```python\n",
    "# 1)\n",
    "! twscrape del_accounts user3\n",
    "\n",
    "# 2) tornar a executar setup_accounts()\n",
    "await setup_accounts()\n",
    "\n",
    "# 3)\n",
    "! twscrape relogin user3\n",
    "```"
   ]
  },
  {
   "cell_type": "markdown",
   "id": "595603b0-ea6b-4fb0-9ae2-6fb41a32c4da",
   "metadata": {},
   "source": [
    "# Cerca\n",
    "\n",
    "Podem buscar de diverses maneres, la que ens dona més opcions és `api.search`, ja que permet buscar amb la mateixa sintaxi que ho faríem a twitter (vegeu https://github.com/igorbrigadir/twitter-advanced-search, però també pot haver canviat).\n",
    "\n",
    "Així doncs, podem buscar per _hashtag_, per compte d'usuari, per paraula clau... A més podem limitar la cerca a unes dates determinades o fer servir certs filtres.\n",
    "\n",
    "La sintaxi bàscia és:\n",
    "```python\n",
    "tweets = await gather(api.search(query, limit=10))\n",
    "```\n",
    "\n",
    "El límit és el nombre de tweets que ens agradaria obtenir, si no n'hi ha tants serà menor, però també pot ser major per com funciona l'API de twitter.\n",
    "\n",
    "La query pot ser:\n",
    "```python\n",
    "query = \"#un_hashtag\"\n",
    "query = \"@mencio_usuari\"\n",
    "query = \"from:usuari\"\n",
    "query = \"paraules concretes\"\n",
    "```\n",
    "\n",
    "`tweets` és un objecte amb molta informació. És recomanable guardar-lo per si la necessitem en un futur. Un cop guardat podem transformar l'objecte a un `DataFrame` de `pandas` per treballar-hi millor."
   ]
  },
  {
   "cell_type": "code",
   "execution_count": null,
   "id": "50eed3a1-ba90-476e-8cf8-ca93177921b8",
   "metadata": {},
   "outputs": [],
   "source": [
    "# guardar tweets\n",
    "with open(\"tweets.pkl\", \"wb\") as f:\n",
    "    pickle.dump(tweets, f)\n",
    "\n",
    "# Carregar tweets guardats\n",
    "# with open(\"tweets.pkl\", \"rb\") as f:\n",
    "#     tweets = pickle.load(f)"
   ]
  },
  {
   "cell_type": "markdown",
   "id": "a2329bec-eccc-49df-93d3-ea4d61fe1b93",
   "metadata": {},
   "source": [
    "## Processat de dades\n",
    "\n",
    "Seleccionem la informació que ens interessa. Per triar què volem és interessant observar almenys unes quants tweets en el seu format original. Per exemple fent:\n",
    "```python\n",
    "tweets[0].dict()\n",
    "```"
   ]
  },
  {
   "cell_type": "code",
   "execution_count": null,
   "id": "400e6738-80f3-4191-9404-f14fd24e16b8",
   "metadata": {},
   "outputs": [],
   "source": [
    "# 1) Seleccionem la informació que volem\n",
    "def parse_tweet(tweet):\n",
    "    return {\n",
    "        \"id\": tweet.id,\n",
    "        \"username\": tweet.user.username,\n",
    "        \"content\": tweet.rawContent,\n",
    "    }\n",
    "\n",
    "\n",
    "# 2) Transformem el diccionari a un DataFrame\n",
    "def tweets2df(tweets):\n",
    "    parsed_data = []\n",
    "    for tweet in tweets:\n",
    "        tweet_data = parse_tweet(tweet)\n",
    "        parsed_data.append(tweet_data)\n",
    "    df = pd.DataFrame(parsed_data)\n",
    "    return df"
   ]
  },
  {
   "cell_type": "code",
   "execution_count": null,
   "id": "7c82f794-7938-4362-ae4f-6bec7a8b47ed",
   "metadata": {},
   "outputs": [],
   "source": [
    "df = get_df(tweets)\n",
    "df.to_csv(\"tweets.csv\", index=False)"
   ]
  }
 ],
 "metadata": {
  "kernelspec": {
   "display_name": "Python 3 (ipykernel)",
   "language": "python",
   "name": "python3"
  },
  "language_info": {
   "codemirror_mode": {
    "name": "ipython",
    "version": 3
   },
   "file_extension": ".py",
   "mimetype": "text/x-python",
   "name": "python",
   "nbconvert_exporter": "python",
   "pygments_lexer": "ipython3",
   "version": "3.10.16"
  }
 },
 "nbformat": 4,
 "nbformat_minor": 5
}
